{
 "cells": [
  {
   "cell_type": "code",
   "execution_count": 9,
   "metadata": {
    "collapsed": false
   },
   "outputs": [
    {
     "name": "stdout",
     "output_type": "stream",
     "text": [
      "/home/ira/code/projects/paegan-code\n"
     ]
    }
   ],
   "source": [
    "%cd ~/code/projects/paegan-code/\n",
    "import torch\n",
    "import my_utils\n",
    "from models import PAEGAN\n",
    "from IPython.display import HTML\n",
    "import warnings\n",
    "warnings.filterwarnings(\"ignore\")"
   ]
  },
  {
   "cell_type": "markdown",
   "metadata": {},
   "source": [
    "## Predicting a single target"
   ]
  },
  {
   "cell_type": "code",
   "execution_count": 3,
   "metadata": {
    "collapsed": false
   },
   "outputs": [
    {
     "data": {
      "text/html": [
       "\n",
       "Configuration: {'wall_action': 'pass', 'ball_action': 'bounce', 'n_bodies': 1, 'radius': 2.0, 'mass': 1.0, 'measurement_noise': 0.0003, 'radius_mode': 'uniform', 'dynamics_noise': 0.01, 'mass_mode': 'uniform'}\n",
       "<br>\n",
       "<img src=\"../ims/0-plot.png\" align=\"center\">\n",
       "<table>\n",
       "  <tr>\n",
       "    <th>Observation</th>\n",
       "    <th>Particle Filter</th> \n",
       "    <th>PF Sample</th> \n",
       "    <th>Predictive AE</th>\n",
       "    <th>PAE Sample</th>\n",
       "  </tr>\n",
       "  <tr>\n",
       "    <td><img src=\"../ims/0-percept.gif\" width=\"140\"></td>\n",
       "    <td><img src=\"../ims/0-pf_belief.gif\" width=\"140\"></td> \n",
       "    <td><img src=\"../ims/0-pf_sample.gif\" width=\"140\"></td>\n",
       "    <td><img src=\"../ims/0-pae_belief.gif\" width=\"140\"></td>\n",
       "    <td><img src=\"../ims/0-pae_sample.gif\" width=\"140\"></td>\n",
       "    \n",
       "  </tr>\n",
       "\n",
       "</table>"
      ],
      "text/plain": [
       "<IPython.core.display.HTML object>"
      ]
     },
     "execution_count": 3,
     "metadata": {},
     "output_type": "execute_result"
    }
   ],
   "source": [
    "gif_counter = 0\n",
    "net = PAEGAN().cuda()\n",
    "net.load_state_dict(torch.load('experiments/one-pass/network/paegan_epoch_18.pth'))\n",
    "sim_config = torch.load(open('_datasets/one-pass/train.conf', 'rb'))\n",
    "my_utils.pf_multi_run_plot(net, sim_config, runs=1, p_mask=1.0, n_particles=300, gif_no=gif_counter)\n",
    "HTML(\"\"\"\n",
    "Configuration: {1}\n",
    "<br>\n",
    "<img src=\"../ims/{0}-plot.png\" align=\"center\">\n",
    "<table>\n",
    "  <tr>\n",
    "    <th>Observation</th>\n",
    "    <th>Particle Filter</th> \n",
    "    <th>PF Sample</th> \n",
    "    <th>Predictive AE</th>\n",
    "    <th>PAE Sample</th>\n",
    "  </tr>\n",
    "  <tr>\n",
    "    <td><img src=\"../ims/{0}-percept.gif\" width=\"140\"></td>\n",
    "    <td><img src=\"../ims/{0}-pf_belief.gif\" width=\"140\"></td> \n",
    "    <td><img src=\"../ims/{0}-pf_sample.gif\" width=\"140\"></td>\n",
    "    <td><img src=\"../ims/{0}-pae_belief.gif\" width=\"140\"></td>\n",
    "    <td><img src=\"../ims/{0}-pae_sample.gif\" width=\"140\"></td>\n",
    "    \n",
    "  </tr>\n",
    "\n",
    "</table>\"\"\".format(gif_counter, sim_config))"
   ]
  },
  {
   "cell_type": "markdown",
   "metadata": {
    "collapsed": true
   },
   "source": [
    "### Commentary\n",
    "Observations are unavailable for $t > 8$. From that point uncertainty in predictions increases for both methods. This is reflected as blur in the animations and as increasing reconstruction loss in the plot. Green dotted line signifies uninformed baseline -- reconstruction loss for outputting an average observation (a flat image). After some time without access to observation neither method does better than it (but also does do worse).\n",
    "\n",
    "PF retains information about state of the environment for longer period of time. This is because PAE did not find the exact forward model. Notice variability and high quality of samples produced by PAE, compare to those produced by PF."
   ]
  },
  {
   "cell_type": "markdown",
   "metadata": {},
   "source": [
    "## Tracking a single target"
   ]
  },
  {
   "cell_type": "code",
   "execution_count": 3,
   "metadata": {
    "collapsed": false
   },
   "outputs": [
    {
     "data": {
      "text/html": [
       "\n",
       "Configuration: {'mass': 1.0, 'mass_mode': 'uniform', 'radius': 2.0, 'ball_action': 'bounce', 'measurement_noise': 0.0003, 'n_bodies': 1, 'dynamics_noise': 0.01, 'wall_action': 'pass', 'radius_mode': 'uniform'}\n",
       "<br>\n",
       "<img src=\"../ims/1-plot.png\" align=\"center\">\n",
       "<table>\n",
       "  <tr>\n",
       "    <th>Ground truth</th>\n",
       "    <th>Particle Filter</th> \n",
       "    <th>PF Sample</th> \n",
       "    <th>Predictive AE</th>\n",
       "    <th>PAE Sample</th>\n",
       "  </tr>\n",
       "  <tr>\n",
       "    <td><img src=\"../ims/1-percept.gif\" width=\"140\"></td>\n",
       "    <td><img src=\"../ims/1-pf_belief.gif\" width=\"140\"></td> \n",
       "    <td><img src=\"../ims/1-pf_sample.gif\" width=\"140\"></td>\n",
       "    <td><img src=\"../ims/1-pae_belief.gif\" width=\"140\"></td>\n",
       "    <td><img src=\"../ims/1-pae_sample.gif\" width=\"140\"></td>\n",
       "    \n",
       "  </tr>\n",
       "\n",
       "</table>"
      ],
      "text/plain": [
       "<IPython.core.display.HTML object>"
      ]
     },
     "execution_count": 3,
     "metadata": {},
     "output_type": "execute_result"
    }
   ],
   "source": [
    "gif_counter = 1\n",
    "net = PAEGAN().cuda()\n",
    "net.load_state_dict(torch.load('experiments/one-pass/network/paegan_epoch_18.pth'))\n",
    "sim_config = torch.load(open('_datasets/one-pass/train.conf', 'rb'))\n",
    "my_utils.pf_multi_run_plot(net, sim_config, runs=1, p_mask=0.95, n_particles=300, gif_no=gif_counter)\n",
    "HTML(\"\"\"\n",
    "Configuration: {1}\n",
    "<br>\n",
    "<img src=\"../ims/{0}-plot.png\" align=\"center\">\n",
    "<table>\n",
    "  <tr>\n",
    "    <th>Observation</th>\n",
    "    <th>Particle Filter</th> \n",
    "    <th>PF Sample</th> \n",
    "    <th>Predictive AE</th>\n",
    "    <th>PAE Sample</th>\n",
    "  </tr>\n",
    "  <tr>\n",
    "    <td><img src=\"../ims/{0}-percept.gif\" width=\"140\"></td>\n",
    "    <td><img src=\"../ims/{0}-pf_belief.gif\" width=\"140\"></td> \n",
    "    <td><img src=\"../ims/{0}-pf_sample.gif\" width=\"140\"></td>\n",
    "    <td><img src=\"../ims/{0}-pae_belief.gif\" width=\"140\"></td>\n",
    "    <td><img src=\"../ims/{0}-pae_sample.gif\" width=\"140\"></td>\n",
    "    \n",
    "  </tr>\n",
    "\n",
    "</table>\"\"\".format(gif_counter, sim_config))"
   ]
  },
  {
   "cell_type": "markdown",
   "metadata": {
    "collapsed": true
   },
   "source": [
    "### Commentary\n",
    "Uncertainty sharply decreases (visible by lower error and less blur in image) whenever new observation can be used for update. PF retains information about state for longer and allows for overall tracking with lower uncertainty."
   ]
  },
  {
   "cell_type": "markdown",
   "metadata": {},
   "source": [
    "## Predicting two targets bouncing"
   ]
  },
  {
   "cell_type": "code",
   "execution_count": 11,
   "metadata": {
    "collapsed": false
   },
   "outputs": [
    {
     "data": {
      "image/png": "[encoded data removed]",
      "text/plain": [
       "<matplotlib.figure.Figure at 0x7f46df4bb208>"
      ]
     },
     "metadata": {},
     "output_type": "display_data"
    }
   ],
   "source": [
    "gif_counter = 2\n",
    "net = PAEGAN().cuda()\n",
    "net.load_state_dict(torch.load('experiments/tw/network/paegan_epoch_18.pth'))\n",
    "sim_config = torch.load(open('_datasets/one-pass/train.conf', 'rb'))\n",
    "my_utils.pf_multi_run_plot(net, sim_config, runs=1, p_mask=0.95, n_particles=300, gif_no=gif_counter)"
   ]
  },
  {
   "cell_type": "markdown",
   "metadata": {
    "collapsed": true
   },
   "source": [
    "### Commentary"
   ]
  }
 ],
 "metadata": {
  "kernelspec": {
   "display_name": "Python 3",
   "language": "python",
   "name": "python3"
  },
  "language_info": {
   "codemirror_mode": {
    "name": "ipython",
    "version": 3
   },
   "file_extension": ".py",
   "mimetype": "text/x-python",
   "name": "python",
   "nbconvert_exporter": "python",
   "pygments_lexer": "ipython3",
   "version": "3.5.2"
  },
  "latex_envs": {
   "LaTeX_envs_menu_present": true,
   "autocomplete": true,
   "bibliofile": "biblio.bib",
   "cite_by": "apalike",
   "current_citInitial": 1,
   "eqLabelWithNumbers": true,
   "eqNumInitial": 1,
   "hotkeys": {
    "equation": "Ctrl-E",
    "itemize": "Ctrl-I"
   },
   "labels_anchors": false,
   "latex_user_defs": false,
   "report_style_numbering": false,
   "user_envs_cfg": false
  }
 },
 "nbformat": 4,
 "nbformat_minor": 2
}
