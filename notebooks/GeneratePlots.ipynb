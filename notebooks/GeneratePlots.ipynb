{
 "cells": [
  {
   "cell_type": "markdown",
   "metadata": {},
   "source": [
    "# Video predictions and tracking using PAEGAN\n",
    "To reproduce the graphs and animations below trained models of PAEGAN are required. Use \\textit{train.py} to generate those."
   ]
  },
  {
   "cell_type": "code",
   "execution_count": 1,
   "metadata": {
    "collapsed": false
   },
   "outputs": [
    {
     "name": "stdout",
     "output_type": "stream",
     "text": [
      "/home/ira/code/projects/paegan-code\n"
     ]
    }
   ],
   "source": [
    "%cd ~/code/projects/paegan-code/\n",
    "import torch\n",
    "import my_utils\n",
    "from models import PAEGAN\n",
    "from IPython.display import HTML\n",
    "import warnings\n",
    "warnings.filterwarnings(\"ignore\")"
   ]
  },
  {
   "cell_type": "markdown",
   "metadata": {},
   "source": [
    "## Predicting a single target"
   ]
  },
  {
   "cell_type": "code",
   "execution_count": 3,
   "metadata": {
    "collapsed": false
   },
   "outputs": [
    {
     "data": {
      "text/html": [
       "\n",
       "Configuration: {'wall_action': 'pass', 'ball_action': 'bounce', 'n_bodies': 1, 'radius': 2.0, 'mass': 1.0, 'measurement_noise': 0.0003, 'radius_mode': 'uniform', 'dynamics_noise': 0.01, 'mass_mode': 'uniform'}\n",
       "<br>\n",
       "<img src=\"../ims/0-plot.png\" align=\"center\">\n",
       "<table>\n",
       "  <tr>\n",
       "    <th>Observation</th>\n",
       "    <th>Particle Filter</th> \n",
       "    <th>PF Sample</th> \n",
       "    <th>Predictive AE</th>\n",
       "    <th>PAE Sample</th>\n",
       "  </tr>\n",
       "  <tr>\n",
       "    <td><img src=\"../ims/0-percept.gif\" width=\"140\"></td>\n",
       "    <td><img src=\"../ims/0-pf_belief.gif\" width=\"140\"></td> \n",
       "    <td><img src=\"../ims/0-pf_sample.gif\" width=\"140\"></td>\n",
       "    <td><img src=\"../ims/0-pae_belief.gif\" width=\"140\"></td>\n",
       "    <td><img src=\"../ims/0-pae_sample.gif\" width=\"140\"></td>\n",
       "    \n",
       "  </tr>\n",
       "\n",
       "</table>"
      ],
      "text/plain": [
       "<IPython.core.display.HTML object>"
      ]
     },
     "execution_count": 3,
     "metadata": {},
     "output_type": "execute_result"
    }
   ],
   "source": [
    "gif_counter = 0\n",
    "net = PAEGAN().cuda()\n",
    "net.load_state_dict(torch.load('experiments/one-pass/network/paegan_epoch_18.pth'))\n",
    "sim_config = torch.load(open('_datasets/one-pass/train.conf', 'rb'))\n",
    "my_utils.pf_multi_run_plot(net, sim_config, runs=1, p_mask=1.0, n_particles=300, gif_no=gif_counter)\n",
    "HTML(\"\"\"\n",
    "Configuration: {1}\n",
    "<br>\n",
    "<img src=\"../ims/{0}-plot.png\" align=\"center\">\n",
    "<table>\n",
    "  <tr>\n",
    "    <th>Observation</th>\n",
    "    <th>Particle Filter</th> \n",
    "    <th>PF Sample</th> \n",
    "    <th>Predictive AE</th>\n",
    "    <th>PAE Sample</th>\n",
    "  </tr>\n",
    "  <tr>\n",
    "    <td><img src=\"../ims/{0}-percept.gif\" width=\"140\"></td>\n",
    "    <td><img src=\"../ims/{0}-pf_belief.gif\" width=\"140\"></td> \n",
    "    <td><img src=\"../ims/{0}-pf_sample.gif\" width=\"140\"></td>\n",
    "    <td><img src=\"../ims/{0}-pae_belief.gif\" width=\"140\"></td>\n",
    "    <td><img src=\"../ims/{0}-pae_sample.gif\" width=\"140\"></td>\n",
    "    \n",
    "  </tr>\n",
    "\n",
    "</table>\"\"\".format(gif_counter, sim_config))"
   ]
  },
  {
   "cell_type": "markdown",
   "metadata": {
    "collapsed": true
   },
   "source": [
    "### Commentary\n",
    "Observations are unavailable for $t > 8$. From that point uncertainty in predictions increases for both methods. This is reflected as blur in the animations and as increasing reconstruction loss in the plot. Green dotted line signifies uninformed baseline -- reconstruction loss for outputting an average observation (a flat image). After some time without access to observation neither method does better than it (but also does do worse).\n",
    "\n",
    "PF retains information about state of the environment for longer period of time. This is because PAE did not find the exact forward model. Notice variability and high quality of samples produced by PAE, compare to those produced by PF."
   ]
  },
  {
   "cell_type": "markdown",
   "metadata": {},
   "source": [
    "## Tracking a single target (5% observations)"
   ]
  },
  {
   "cell_type": "code",
   "execution_count": 3,
   "metadata": {
    "collapsed": false
   },
   "outputs": [
    {
     "data": {
      "text/html": [
       "\n",
       "Configuration: {'mass': 1.0, 'mass_mode': 'uniform', 'radius': 2.0, 'ball_action': 'bounce', 'measurement_noise': 0.0003, 'n_bodies': 1, 'dynamics_noise': 0.01, 'wall_action': 'pass', 'radius_mode': 'uniform'}\n",
       "<br>\n",
       "<img src=\"../ims/1-plot.png\" align=\"center\">\n",
       "<table>\n",
       "  <tr>\n",
       "    <th>Ground truth</th>\n",
       "    <th>Particle Filter</th> \n",
       "    <th>PF Sample</th> \n",
       "    <th>Predictive AE</th>\n",
       "    <th>PAE Sample</th>\n",
       "  </tr>\n",
       "  <tr>\n",
       "    <td><img src=\"../ims/1-percept.gif\" width=\"140\"></td>\n",
       "    <td><img src=\"../ims/1-pf_belief.gif\" width=\"140\"></td> \n",
       "    <td><img src=\"../ims/1-pf_sample.gif\" width=\"140\"></td>\n",
       "    <td><img src=\"../ims/1-pae_belief.gif\" width=\"140\"></td>\n",
       "    <td><img src=\"../ims/1-pae_sample.gif\" width=\"140\"></td>\n",
       "    \n",
       "  </tr>\n",
       "\n",
       "</table>"
      ],
      "text/plain": [
       "<IPython.core.display.HTML object>"
      ]
     },
     "execution_count": 3,
     "metadata": {},
     "output_type": "execute_result"
    }
   ],
   "source": [
    "gif_counter = 1\n",
    "net = PAEGAN().cuda()\n",
    "net.load_state_dict(torch.load('experiments/one-pass/network/paegan_epoch_18.pth'))\n",
    "sim_config = torch.load(open('_datasets/one-pass/train.conf', 'rb'))\n",
    "my_utils.pf_multi_run_plot(net, sim_config, runs=1, p_mask=0.95, n_particles=300, gif_no=gif_counter)\n",
    "HTML(\"\"\"\n",
    "Configuration: {1}\n",
    "<br>\n",
    "<img src=\"../ims/{0}-plot.png\" align=\"center\">\n",
    "<table>\n",
    "  <tr>\n",
    "    <th>Observation</th>\n",
    "    <th>Particle Filter</th> \n",
    "    <th>PF Sample</th> \n",
    "    <th>Predictive AE</th>\n",
    "    <th>PAE Sample</th>\n",
    "  </tr>\n",
    "  <tr>c\n",
    "    <td><img src=\"../ims/{0}-percept.gif\" width=\"140\"></td>\n",
    "    <td><img src=\"../ims/{0}-pf_belief.gif\" width=\"140\"></td> \n",
    "    <td><img src=\"../ims/{0}-pf_sample.gif\" width=\"140\"></td>\n",
    "    <td><img src=\"../ims/{0}-pae_belief.gif\" width=\"140\"></td>\n",
    "    <td><img src=\"../ims/{0}-pae_sample.gif\" width=\"140\"></td>\n",
    "    \n",
    "  </tr>\n",
    "\n",
    "</table>\"\"\".format(gif_counter, sim_config))"
   ]
  },
  {
   "cell_type": "markdown",
   "metadata": {
    "collapsed": true
   },
   "source": [
    "### Commentary\n",
    "Observations are available only 5% of time. Uncertainty sharply decreases (visible by lower error and less blur in image) whenever new observation can be used for update. PF retains information about state for longer and allows for overall tracking with lower uncertainty."
   ]
  },
  {
   "cell_type": "markdown",
   "metadata": {},
   "source": [
    "## Tracking a single target (10% observations)"
   ]
  },
  {
   "cell_type": "code",
   "execution_count": 11,
   "metadata": {
    "collapsed": false
   },
   "outputs": [
    {
     "data": {
      "text/html": [
       "\n",
       "Configuration: {'dynamics_noise': 0.01, 'mass_mode': 'uniform', 'measurement_noise': 0.0003, 'radius': 2.0, 'n_bodies': 1, 'mass': 1.0, 'ball_action': 'bounce', 'wall_action': 'pass', 'radius_mode': 'uniform'}\n",
       "<br>\n",
       "<img src=\"../ims/2-plot.png\" align=\"center\">\n",
       "<table>\n",
       "  <tr>\n",
       "    <th>Observation</th>\n",
       "    <th>Particle Filter</th> \n",
       "    <th>PF Sample</th> \n",
       "    <th>Predictive AE</th>\n",
       "    <th>PAE Sample</th>\n",
       "  </tr>\n",
       "  <tr>\n",
       "    <td><img src=\"../ims/2-percept.gif\" width=\"140\"></td>\n",
       "    <td><img src=\"../ims/2-pf_belief.gif\" width=\"140\"></td> \n",
       "    <td><img src=\"../ims/2-pf_sample.gif\" width=\"140\"></td>\n",
       "    <td><img src=\"../ims/2-pae_belief.gif\" width=\"140\"></td>\n",
       "    <td><img src=\"../ims/2-pae_sample.gif\" width=\"140\"></td>\n",
       "    \n",
       "  </tr>\n",
       "\n",
       "</table>"
      ],
      "text/plain": [
       "<IPython.core.display.HTML object>"
      ]
     },
     "execution_count": 11,
     "metadata": {},
     "output_type": "execute_result"
    }
   ],
   "source": [
    "gif_counter = 2\n",
    "net = PAEGAN().cuda()\n",
    "net.load_state_dict(torch.load('experiments/one-pass/network/paegan_epoch_18.pth'))\n",
    "sim_config = torch.load(open('_datasets/one-pass/train.conf', 'rb'))\n",
    "my_utils.pf_multi_run_plot(net, sim_config, runs=1, p_mask=0.95, n_particles=300, gif_no=gif_counter)\n",
    "HTML(\"\"\"\n",
    "Configuration: {1}\n",
    "<br>\n",
    "<img src=\"../ims/{0}-plot.png\" align=\"center\">\n",
    "<table>\n",
    "  <tr>\n",
    "    <th>Observation</th>\n",
    "    <th>Particle Filter</th> \n",
    "    <th>PF Sample</th> \n",
    "    <th>Predictive AE</th>\n",
    "    <th>PAE Sample</th>\n",
    "  </tr>\n",
    "  <tr>\n",
    "    <td><img src=\"../ims/{0}-percept.gif\" width=\"140\"></td>\n",
    "    <td><img src=\"../ims/{0}-pf_belief.gif\" width=\"140\"></td> \n",
    "    <td><img src=\"../ims/{0}-pf_sample.gif\" width=\"140\"></td>\n",
    "    <td><img src=\"../ims/{0}-pae_belief.gif\" width=\"140\"></td>\n",
    "    <td><img src=\"../ims/{0}-pae_sample.gif\" width=\"140\"></td>\n",
    "    \n",
    "  </tr>\n",
    "\n",
    "</table>\"\"\".format(gif_counter, sim_config))"
   ]
  },
  {
   "cell_type": "markdown",
   "metadata": {
    "collapsed": true
   },
   "source": [
    "### Commentary\n",
    "Observations are available only 10% of time. Uncertainty sharply decreases (visible by lower error and less blur in image) whenever new observation can be used for update. PF retains information about state for longer and allows for overall tracking with lower uncertainty."
   ]
  },
  {
   "cell_type": "markdown",
   "metadata": {},
   "source": [
    "## Tracking a single target using noisy observations"
   ]
  },
  {
   "cell_type": "code",
   "execution_count": 26,
   "metadata": {
    "collapsed": false
   },
   "outputs": [
    {
     "data": {
      "text/html": [
       "\n",
       "Configuration: {'mass': 1.0, 'dynamics_noise': 0.01, 'wall_action': 'pass', 'measurement_noise': 0.5, 'mass_mode': 'uniform', 'radius': 2.0, 'ball_action': 'bounce', 'n_bodies': 1, 'radius_mode': 'uniform'}\n",
       "<br>\n",
       "<img src=\"../ims/77-plot.png\" align=\"center\">\n",
       "<table>\n",
       "  <tr>\n",
       "    <th>Observation</th>\n",
       "    <th>Particle Filter</th> \n",
       "    <th>PF Sample</th> \n",
       "    <th>Predictive AE</th>c\n",
       "    <th>PAE Sample</th>\n",
       "  </tr>\n",
       "  <tr>\n",
       "    <td><img src=\"../ims/77-percept.gif\" width=\"140\"></td>\n",
       "    <td><img src=\"../ims/77-pf_belief.gif\" width=\"140\"></td> \n",
       "    <td><img src=\"../ims/77-pf_sample.gif\" width=\"140\"></td>\n",
       "    <td><img src=\"../ims/77-pae_belief.gif\" width=\"140\"></td>\n",
       "    <td><img src=\"../ims/77-pae_sample.gif\" width=\"140\"></td>\n",
       "    \n",
       "  </tr>\n",
       "\n",
       "</table>"
      ],
      "text/plain": [
       "<IPython.core.display.HTML object>"
      ]
     },
     "execution_count": 26,
     "metadata": {},
     "output_type": "execute_result"
    }
   ],
   "source": [
    "gif_counter = 77\n",
    "net = PAEGAN().cuda()\n",
    "net.load_state_dict(torch.load('experiments/one-noise/network/paegan_epoch_28.pth'))\n",
    "sim_config = torch.load(open('_datasets/one-noise/train.conf', 'rb'))\n",
    "my_utils.pf_multi_run_plot(net, sim_config, runs=1, p_mask=1.0, n_particles=300, gif_no=gif_counter)\n",
    "HTML(\"\"\"\n",
    "Configuration: {1}\n",
    "<br>\n",
    "<img src=\"../ims/{0}-plot.png\" align=\"center\">\n",
    "<table>\n",
    "  <tr>\n",
    "    <th>Observation</th>\n",
    "    <th>Particle Filter</th> \n",
    "    <th>PF Sample</th> \n",
    "    <th>Predictive AE</th>c\n",
    "    <th>PAE Sample</th>\n",
    "  </tr>\n",
    "  <tr>\n",
    "    <td><img src=\"../ims/{0}-percept.gif\" width=\"140\"></td>\n",
    "    <td><img src=\"../ims/{0}-pf_belief.gif\" width=\"140\"></td> \n",
    "    <td><img src=\"../ims/{0}-pf_sample.gif\" width=\"140\"></td>\n",
    "    <td><img src=\"../ims/{0}-pae_belief.gif\" width=\"140\"></td>\n",
    "    <td><img src=\"../ims/{0}-pae_sample.gif\" width=\"140\"></td>\n",
    "    \n",
    "  </tr>\n",
    "\n",
    "</table>\"\"\".format(gif_counter, sim_config))"
   ]
  },
  {
   "cell_type": "markdown",
   "metadata": {
    "collapsed": true
   },
   "source": [
    "### Commentary\n",
    "Observations are provided only for $t < 9$. Additionally, observations are noisy -- target's position can be randomly shifted. Again, PAE has learnt to extract information from percepts in this format."
   ]
  },
  {
   "cell_type": "markdown",
   "metadata": {},
   "source": [
    "## Predicting two targets bouncing"
   ]
  },
  {
   "cell_type": "code",
   "execution_count": 8,
   "metadata": {
    "collapsed": false,
    "scrolled": false
   },
   "outputs": [
    {
     "data": {
      "text/html": [
       "\n",
       "Configuration: {'mass': 1.0, 'ball_action': 'bounce', 'wall_action': 'bounce', 'measurement_noise': 0.0003, 'radius': 2.0, 'mass_mode': 'uniform', 'dynamics_noise': 0.01, 'n_bodies': 2, 'radius_mode': 'uniform'}\n",
       "<br>\n",
       "<img src=\"../ims/3-plot.png\" align=\"center\">\n",
       "<table>\n",
       "  <tr>\n",
       "    <th>Observation</th>\n",
       "    <th>Particle Filter</th> \n",
       "    <th>PF Sample</th> \n",
       "    <th>Predictive AE</th>\n",
       "    <th>PAE Sample</th>\n",
       "  </tr>\n",
       "  <tr>\n",
       "    <td><img src=\"../ims/3-percept.gif\" width=\"140\"></td>\n",
       "    <td><img src=\"../ims/3-pf_belief.gif\" width=\"140\"></td> \n",
       "    <td><img src=\"../ims/3-pf_sample.gif\" width=\"140\"></td>\n",
       "    <td><img src=\"../ims/3-pae_belief.gif\" width=\"140\"></td>\n",
       "    <td><img src=\"../ims/3-pae_sample.gif\" width=\"140\"></td>\n",
       "    \n",
       "  </tr>\n",
       "\n",
       "</table>"
      ],
      "text/plain": [
       "<IPython.core.display.HTML object>"
      ]
     },
     "execution_count": 8,
     "metadata": {},
     "output_type": "execute_result"
    }
   ],
   "source": [
    "gif_counter = 3\n",
    "net = PAEGAN().cuda()\n",
    "net.load_state_dict(torch.load('experiments/two-bounce/network/paegan_epoch_48.pth'))\n",
    "sim_config = torch.load(open('_datasets/two-bounce/train.conf', 'rb'))\n",
    "my_utils.pf_multi_run_plot(net, sim_config, runs=1, p_mask=1.0, n_particles=300, gif_no=gif_counter)\n",
    "HTML(\"\"\"\n",
    "Configuration: {1}\n",
    "<br>\n",
    "<img src=\"../ims/{0}-plot.png\" align=\"center\">\n",
    "<table>\n",
    "  <tr>\n",
    "    <th>Observation</th>\n",
    "    <th>Particle Filter</th> \n",
    "    <th>PF Sample</th> \n",
    "    <th>Predictive AE</th>\n",
    "    <th>PAE Sample</th>\n",
    "  </tr>\n",
    "  <tr>\n",
    "    <td><img src=\"../ims/{0}-percept.gif\" width=\"140\"></td>\n",
    "    <td><img src=\"../ims/{0}-pf_belief.gif\" width=\"140\"></td> \n",
    "    <td><img src=\"../ims/{0}-pf_sample.gif\" width=\"140\"></td>\n",
    "    <td><img src=\"../ims/{0}-pae_belief.gif\" width=\"140\"></td>\n",
    "    <td><img src=\"../ims/{0}-pae_sample.gif\" width=\"140\"></td>\n",
    "    \n",
    "  </tr>\n",
    "\n",
    "</table>\"\"\".format(gif_counter, sim_config))"
   ]
  },
  {
   "cell_type": "markdown",
   "metadata": {
    "collapsed": true
   },
   "source": [
    "### Commentary\n",
    "Scenario where two moving balls can collide. The above is a chaotic system -- a small difference in position of the balls before collision strongly affects the outcome. Notice the non-linear shape of the distribution maintained by the particle filter. PAE's distribution is far simpler. On this, more complex problem, PAE fares comparatively worse. This is because it is more difficult to learn the complex model driving the targets.\n",
    "\n",
    "Samples generated from PAE match the original distribution. However, high uncertainty belief states, the sample appear to have decreased variability."
   ]
  },
  {
   "cell_type": "markdown",
   "metadata": {},
   "source": [
    "# Average performances\n",
    "We can see that for any of the scenarios, on average PAE doesn't perform worse than uninformed baseline. This suggest it is not overconfident about its predictions."
   ]
  },
  {
   "cell_type": "markdown",
   "metadata": {},
   "source": [
    "## Averaging over 50 runs -- two targets bouncing"
   ]
  },
  {
   "cell_type": "code",
   "execution_count": 27,
   "metadata": {
    "collapsed": false,
    "scrolled": false
   },
   "outputs": [
    {
     "data": {
      "text/html": [
       "\n",
       "Configuration: {'mass': 1.0, 'ball_action': 'bounce', 'wall_action': 'bounce', 'measurement_noise': 0.0003, 'radius': 2.0, 'mass_mode': 'uniform', 'dynamics_noise': 0.01, 'n_bodies': 2, 'radius_mode': 'uniform'}\n",
       "<br>\n",
       "<img src=\"../ims/4-plot.png\" align=\"center\">\n",
       "<table>\n",
       "  <tr>\n",
       "    <th>Observation</th>\n",
       "    <th>Particle Filter</th> \n",
       "    <th>PF Sample</th> \n",
       "    <th>Predictive AE</th>\n",
       "    <th>PAE Sample</th>\n",
       "  </tr>\n",
       "  <tr>\n",
       "    <td><img src=\"../ims/4-percept.gif\" width=\"140\"></td>\n",
       "    <td><img src=\"../ims/4-pf_belief.gif\" width=\"140\"></td> \n",
       "    <td><img src=\"../ims/4-pf_sample.gif\" width=\"140\"></td>\n",
       "    <td><img src=\"../ims/4-pae_belief.gif\" width=\"140\"></td>\n",
       "    <td><img src=\"../ims/4-pae_sample.gif\" width=\"140\"></td>\n",
       "    \n",
       "  </tr>\n",
       "\n",
       "</table>"
      ],
      "text/plain": [
       "<IPython.core.display.HTML object>"
      ]
     },
     "execution_count": 27,
     "metadata": {},
     "output_type": "execute_result"
    }
   ],
   "source": [
    "gif_counter = 4\n",
    "net = PAEGAN().cuda()\n",
    "net.load_state_dict(torch.load('experiments/two-bounce/network/paegan_epoch_48.pth'))\n",
    "sim_config = torch.load(open('_datasets/two-bounce/train.conf', 'rb'))\n",
    "my_utils.pf_multi_run_plot(net, sim_config, runs=50, p_mask=1.0, n_particles=500, gif_no=gif_counter)\n",
    "HTML(\"\"\"\n",
    "Configuration: {1}\n",
    "<br>\n",
    "<img src=\"../ims/{0}-plot.png\" align=\"center\">\n",
    "<table>\n",
    "  <tr>\n",
    "    <th>Observation</th>\n",
    "    <th>Particle Filter</th> \n",
    "    <th>PF Sample</th> \n",
    "    <th>Predictive AE</th>\n",
    "    <th>PAE Sample</th>\n",
    "  </tr>\n",
    "  <tr>\n",
    "    <td><img src=\"../ims/{0}-percept.gif\" width=\"140\"></td>\n",
    "    <td><img src=\"../ims/{0}-pf_belief.gif\" width=\"140\"></td> \n",
    "    <td><img src=\"../ims/{0}-pf_sample.gif\" width=\"140\"></td>\n",
    "    <td><img src=\"../ims/{0}-pae_belief.gif\" width=\"140\"></td>\n",
    "    <td><img src=\"../ims/{0}-pae_sample.gif\" width=\"140\"></td>\n",
    "    \n",
    "  </tr>\n",
    "\n",
    "</table>\"\"\".format(gif_counter, sim_config))"
   ]
  },
  {
   "cell_type": "markdown",
   "metadata": {},
   "source": [
    "## Averaging over 50 runs -- one target"
   ]
  },
  {
   "cell_type": "code",
   "execution_count": 28,
   "metadata": {
    "collapsed": false
   },
   "outputs": [
    {
     "data": {
      "text/html": [
       "\n",
       "Configuration: {'mass': 1.0, 'ball_action': 'bounce', 'wall_action': 'pass', 'measurement_noise': 0.0003, 'mass_mode': 'uniform', 'radius': 2.0, 'dynamics_noise': 0.01, 'n_bodies': 1, 'radius_mode': 'uniform'}\n",
       "<br>\n",
       "<img src=\"../ims/5-plot.png\" align=\"center\">\n",
       "<table>\n",
       "  <tr>\n",
       "    <th>Observation</th>\n",
       "    <th>Particle Filter</th> \n",
       "    <th>PF Sample</th> \n",
       "    <th>Predictive AE</th>\n",
       "    <th>PAE Sample</th>\n",
       "  </tr>\n",
       "  <tr>\n",
       "    <td><img src=\"../ims/5-percept.gif\" width=\"140\"></td>\n",
       "    <td><img src=\"../ims/5-pf_belief.gif\" width=\"140\"></td> \n",
       "    <td><img src=\"../ims/5-pf_sample.gif\" width=\"140\"></td>\n",
       "    <td><img src=\"../ims/5-pae_belief.gif\" width=\"140\"></td>\n",
       "    <td><img src=\"../ims/5-pae_sample.gif\" width=\"140\"></td>\n",
       "    \n",
       "  </tr>\n",
       "\n",
       "</table>"
      ],
      "text/plain": [
       "<IPython.core.display.HTML object>"
      ]
     },
     "execution_count": 28,
     "metadata": {},
     "output_type": "execute_result"
    }
   ],
   "source": [
    "gif_counter = 5\n",
    "net = PAEGAN().cuda()\n",
    "net.load_state_dict(torch.load('experiments/one-pass/network/paegan_epoch_18.pth'))\n",
    "sim_config = torch.load(open('_datasets/one-pass/train.conf', 'rb'))\n",
    "my_utils.pf_multi_run_plot(net, sim_config, runs=50, p_mask=1.0, n_particles=500, gif_no=gif_counter)\n",
    "HTML(\"\"\"\n",
    "Configuration: {1}\n",
    "<br>\n",
    "<img src=\"../ims/{0}-plot.png\" align=\"center\">\n",
    "<table>\n",
    "  <tr>\n",
    "    <th>Observation</th>\n",
    "    <th>Particle Filter</th> \n",
    "    <th>PF Sample</th> \n",
    "    <th>Predictive AE</th>\n",
    "    <th>PAE Sample</th>\n",
    "  </tr>\n",
    "  <tr>\n",
    "    <td><img src=\"../ims/{0}-percept.gif\" width=\"140\"></td>\n",
    "    <td><img src=\"../ims/{0}-pf_belief.gif\" width=\"140\"></td> \n",
    "    <td><img src=\"../ims/{0}-pf_sample.gif\" width=\"140\"></td>\n",
    "    <td><img src=\"../ims/{0}-pae_belief.gif\" width=\"140\"></td>\n",
    "    <td><img src=\"../ims/{0}-pae_sample.gif\" width=\"140\"></td>\n",
    "    \n",
    "  </tr>\n",
    "\n",
    "</table>\"\"\".format(gif_counter, sim_config))"
   ]
  },
  {
   "cell_type": "markdown",
   "metadata": {},
   "source": [
    "## Averaging over 50 runs -- one target with noisy observations"
   ]
  },
  {
   "cell_type": "code",
   "execution_count": 29,
   "metadata": {
    "collapsed": false
   },
   "outputs": [
    {
     "data": {
      "text/html": [
       "\n",
       "Configuration: {'mass': 1.0, 'dynamics_noise': 0.01, 'wall_action': 'pass', 'measurement_noise': 0.5, 'mass_mode': 'uniform', 'radius': 2.0, 'ball_action': 'bounce', 'n_bodies': 1, 'radius_mode': 'uniform'}\n",
       "<br>\n",
       "<img src=\"../ims/78-plot.png\" align=\"center\">\n",
       "<table>\n",
       "  <tr>\n",
       "    <th>Observation</th>\n",
       "    <th>Particle Filter</th> \n",
       "    <th>PF Sample</th> \n",
       "    <th>Predictive AE</th>c\n",
       "    <th>PAE Sample</th>\n",
       "  </tr>\n",
       "  <tr>\n",
       "    <td><img src=\"../ims/78-percept.gif\" width=\"140\"></td>\n",
       "    <td><img src=\"../ims/78-pf_belief.gif\" width=\"140\"></td> \n",
       "    <td><img src=\"../ims/78-pf_sample.gif\" width=\"140\"></td>\n",
       "    <td><img src=\"../ims/78-pae_belief.gif\" width=\"140\"></td>\n",
       "    <td><img src=\"../ims/78-pae_sample.gif\" width=\"140\"></td>\n",
       "    \n",
       "  </tr>\n",
       "\n",
       "</table>"
      ],
      "text/plain": [
       "<IPython.core.display.HTML object>"
      ]
     },
     "execution_count": 29,
     "metadata": {},
     "output_type": "execute_result"
    }
   ],
   "source": [
    "gif_counter = 78\n",
    "net = PAEGAN().cuda()\n",
    "net.load_state_dict(torch.load('experiments/one-noise/network/paegan_epoch_28.pth'))\n",
    "sim_config = torch.load(open('_datasets/one-noise/train.conf', 'rb'))\n",
    "my_utils.pf_multi_run_plot(net, sim_config, runs=50, p_mask=1.0, n_particles=500, gif_no=gif_counter)\n",
    "HTML(\"\"\"\n",
    "Configuration: {1}\n",
    "<br>\n",
    "<img src=\"../ims/{0}-plot.png\" align=\"center\">\n",
    "<table>\n",
    "  <tr>\n",
    "    <th>Observation</th>\n",
    "    <th>Particle Filter</th> \n",
    "    <th>PF Sample</th> \n",
    "    <th>Predictive AE</th>c\n",
    "    <th>PAE Sample</th>\n",
    "  </tr>\n",
    "  <tr>\n",
    "    <td><img src=\"../ims/{0}-percept.gif\" width=\"140\"></td>\n",
    "    <td><img src=\"../ims/{0}-pf_belief.gif\" width=\"140\"></td> \n",
    "    <td><img src=\"../ims/{0}-pf_sample.gif\" width=\"140\"></td>\n",
    "    <td><img src=\"../ims/{0}-pae_belief.gif\" width=\"140\"></td>\n",
    "    <td><img src=\"../ims/{0}-pae_sample.gif\" width=\"140\"></td>\n",
    "    \n",
    "  </tr>\n",
    "\n",
    "</table>\"\"\".format(gif_counter, sim_config))"
   ]
  }
 ],
 "metadata": {
  "kernelspec": {
   "display_name": "Python 3",
   "language": "python",
   "name": "python3"
  },
  "language_info": {
   "codemirror_mode": {
    "name": "ipython",
    "version": 3
   },
   "file_extension": ".py",
   "mimetype": "text/x-python",
   "name": "python",
   "nbconvert_exporter": "python",
   "pygments_lexer": "ipython3",
   "version": "3.5.2"
  },
  "latex_envs": {
   "LaTeX_envs_menu_present": true,
   "autocomplete": true,
   "bibliofile": "biblio.bib",
   "cite_by": "apalike",
   "current_citInitial": 1,
   "eqLabelWithNumbers": true,
   "eqNumInitial": 1,
   "hotkeys": {
    "equation": "Ctrl-E",
    "itemize": "Ctrl-I"
   },
   "labels_anchors": false,
   "latex_user_defs": false,
   "report_style_numbering": false,
   "user_envs_cfg": false
  }
 },
 "nbformat": 4,
 "nbformat_minor": 2
}
